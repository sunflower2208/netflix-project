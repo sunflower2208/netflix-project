{
 "cells": [
  {
   "cell_type": "code",
   "execution_count": 1,
   "id": "f69548ae-4b0f-4cda-874a-74d716ed7c25",
   "metadata": {},
   "outputs": [],
   "source": [
    "import pandas as pd"
   ]
  },
  {
   "cell_type": "code",
   "execution_count": 2,
   "id": "a2670a90-d137-4ab5-8590-8aea87fd800f",
   "metadata": {},
   "outputs": [],
   "source": [
    "df_input = pd.read_pickle(\"netflix_prize.pkl\")\n",
    "df_mt = pd.read_csv(\"netflix-prize\\movie_titles.csv\", header=None, names=[\"movieID\"])"
   ]
  },
  {
   "cell_type": "code",
   "execution_count": 3,
   "id": "6eb9309f-9f9e-41e7-9bda-0b23a001303f",
   "metadata": {},
   "outputs": [
    {
     "name": "stdout",
     "output_type": "stream",
     "text": [
      "<class 'pandas.core.frame.DataFrame'>\n",
      "RangeIndex: 100480507 entries, 0 to 100480506\n",
      "Data columns (total 5 columns):\n",
      " #   Column      Dtype  \n",
      "---  ------      -----  \n",
      " 0   index       int64  \n",
      " 1   userID      object \n",
      " 2   rating      float64\n",
      " 3   ratingDate  object \n",
      " 4   movieID     object \n",
      "dtypes: float64(1), int64(1), object(3)\n",
      "memory usage: 3.7+ GB\n"
     ]
    }
   ],
   "source": [
    "df_input.info()"
   ]
  },
  {
   "cell_type": "code",
   "execution_count": 4,
   "id": "7dcbc381-d1af-4cf4-a674-0a6996bc21a0",
   "metadata": {},
   "outputs": [
    {
     "data": {
      "text/html": [
       "<div>\n",
       "<style scoped>\n",
       "    .dataframe tbody tr th:only-of-type {\n",
       "        vertical-align: middle;\n",
       "    }\n",
       "\n",
       "    .dataframe tbody tr th {\n",
       "        vertical-align: top;\n",
       "    }\n",
       "\n",
       "    .dataframe thead th {\n",
       "        text-align: right;\n",
       "    }\n",
       "</style>\n",
       "<table border=\"1\" class=\"dataframe\">\n",
       "  <thead>\n",
       "    <tr style=\"text-align: right;\">\n",
       "      <th></th>\n",
       "      <th>movieID</th>\n",
       "    </tr>\n",
       "  </thead>\n",
       "  <tbody>\n",
       "    <tr>\n",
       "      <th>0</th>\n",
       "      <td>1;2003;Dinosaur Planet</td>\n",
       "    </tr>\n",
       "    <tr>\n",
       "      <th>1</th>\n",
       "      <td>2;2004;Isle of Man TT 2004 Review</td>\n",
       "    </tr>\n",
       "    <tr>\n",
       "      <th>2</th>\n",
       "      <td>3;1997;Character</td>\n",
       "    </tr>\n",
       "    <tr>\n",
       "      <th>3</th>\n",
       "      <td>4;1994;Paula Abdul's Get Up &amp; Dance</td>\n",
       "    </tr>\n",
       "    <tr>\n",
       "      <th>4</th>\n",
       "      <td>5;2004;The Rise and Fall of ECW</td>\n",
       "    </tr>\n",
       "  </tbody>\n",
       "</table>\n",
       "</div>"
      ],
      "text/plain": [
       "                               movieID\n",
       "0               1;2003;Dinosaur Planet\n",
       "1    2;2004;Isle of Man TT 2004 Review\n",
       "2                     3;1997;Character\n",
       "3  4;1994;Paula Abdul's Get Up & Dance\n",
       "4      5;2004;The Rise and Fall of ECW"
      ]
     },
     "execution_count": 4,
     "metadata": {},
     "output_type": "execute_result"
    }
   ],
   "source": [
    "df_mt.head()"
   ]
  },
  {
   "cell_type": "markdown",
   "id": "3d9e59a9-6af2-4c89-8850-b84cb9061cfd",
   "metadata": {},
   "source": [
    "### Splitting the contents of 'movieID' column to get movie ID, its release year and the title"
   ]
  },
  {
   "cell_type": "code",
   "execution_count": 5,
   "id": "272e1bc2-289f-4040-b8dc-b2896914faab",
   "metadata": {},
   "outputs": [],
   "source": [
    "df_mt['movieID'] = df_mt['movieID'].apply(lambda x: list(x.split(\";\")))\n",
    "df_mt[\"releaseYear\"] = df_mt['movieID'].apply(lambda x: x[1])\n",
    "df_mt[\"title\"] = df_mt['movieID'].apply(lambda x: x[2])\n",
    "df_mt[\"movieID\"] = df_mt['movieID'].apply(lambda x: x[0])"
   ]
  },
  {
   "cell_type": "code",
   "execution_count": 6,
   "id": "c9237b9d-1fef-42fe-b0b6-24fdb2ac01d2",
   "metadata": {},
   "outputs": [
    {
     "data": {
      "text/html": [
       "<div>\n",
       "<style scoped>\n",
       "    .dataframe tbody tr th:only-of-type {\n",
       "        vertical-align: middle;\n",
       "    }\n",
       "\n",
       "    .dataframe tbody tr th {\n",
       "        vertical-align: top;\n",
       "    }\n",
       "\n",
       "    .dataframe thead th {\n",
       "        text-align: right;\n",
       "    }\n",
       "</style>\n",
       "<table border=\"1\" class=\"dataframe\">\n",
       "  <thead>\n",
       "    <tr style=\"text-align: right;\">\n",
       "      <th></th>\n",
       "      <th>movieID</th>\n",
       "      <th>releaseYear</th>\n",
       "      <th>title</th>\n",
       "      <th>type</th>\n",
       "    </tr>\n",
       "  </thead>\n",
       "  <tbody>\n",
       "    <tr>\n",
       "      <th>0</th>\n",
       "      <td>1</td>\n",
       "      <td>2003</td>\n",
       "      <td>Dinosaur Planet</td>\n",
       "      <td>movie</td>\n",
       "    </tr>\n",
       "    <tr>\n",
       "      <th>1</th>\n",
       "      <td>2</td>\n",
       "      <td>2004</td>\n",
       "      <td>Isle of Man TT 2004 Review</td>\n",
       "      <td>movie</td>\n",
       "    </tr>\n",
       "    <tr>\n",
       "      <th>2</th>\n",
       "      <td>3</td>\n",
       "      <td>1997</td>\n",
       "      <td>Character</td>\n",
       "      <td>movie</td>\n",
       "    </tr>\n",
       "    <tr>\n",
       "      <th>3</th>\n",
       "      <td>4</td>\n",
       "      <td>1994</td>\n",
       "      <td>Paula Abdul's Get Up &amp; Dance</td>\n",
       "      <td>movie</td>\n",
       "    </tr>\n",
       "    <tr>\n",
       "      <th>4</th>\n",
       "      <td>5</td>\n",
       "      <td>2004</td>\n",
       "      <td>The Rise and Fall of ECW</td>\n",
       "      <td>movie</td>\n",
       "    </tr>\n",
       "  </tbody>\n",
       "</table>\n",
       "</div>"
      ],
      "text/plain": [
       "  movieID releaseYear                         title   type\n",
       "0       1        2003               Dinosaur Planet  movie\n",
       "1       2        2004    Isle of Man TT 2004 Review  movie\n",
       "2       3        1997                     Character  movie\n",
       "3       4        1994  Paula Abdul's Get Up & Dance  movie\n",
       "4       5        2004      The Rise and Fall of ECW  movie"
      ]
     },
     "execution_count": 6,
     "metadata": {},
     "output_type": "execute_result"
    }
   ],
   "source": [
    "## Get the content type from title (e.g. TV Shows have \"Series\" or \"Season\" the title)\n",
    "df_mt['type'] = df_mt[\"title\"].apply(lambda x: \"tv show\" if \": series \" in x.lower() or \": season \" in x.lower() else \"movie\")\n",
    "df_mt['title'] = df_mt['title'].apply(lambda x: x[:x.lower().find(\": s\")] if \": series \" in x.lower() or \": season \" in x.lower() else x)\n",
    "df_mt.head()"
   ]
  },
  {
   "cell_type": "code",
   "execution_count": 7,
   "id": "343287d9-c642-452d-9ab2-07b8aacd8060",
   "metadata": {},
   "outputs": [
    {
     "data": {
      "text/html": [
       "<div>\n",
       "<style scoped>\n",
       "    .dataframe tbody tr th:only-of-type {\n",
       "        vertical-align: middle;\n",
       "    }\n",
       "\n",
       "    .dataframe tbody tr th {\n",
       "        vertical-align: top;\n",
       "    }\n",
       "\n",
       "    .dataframe thead th {\n",
       "        text-align: right;\n",
       "    }\n",
       "</style>\n",
       "<table border=\"1\" class=\"dataframe\">\n",
       "  <thead>\n",
       "    <tr style=\"text-align: right;\">\n",
       "      <th></th>\n",
       "      <th>index</th>\n",
       "      <th>userID</th>\n",
       "      <th>rating</th>\n",
       "      <th>ratingDate</th>\n",
       "      <th>movieID</th>\n",
       "    </tr>\n",
       "  </thead>\n",
       "  <tbody>\n",
       "    <tr>\n",
       "      <th>0</th>\n",
       "      <td>1</td>\n",
       "      <td>1488844</td>\n",
       "      <td>3.0</td>\n",
       "      <td>2005-09-06</td>\n",
       "      <td>1</td>\n",
       "    </tr>\n",
       "    <tr>\n",
       "      <th>1</th>\n",
       "      <td>2</td>\n",
       "      <td>822109</td>\n",
       "      <td>5.0</td>\n",
       "      <td>2005-05-13</td>\n",
       "      <td>1</td>\n",
       "    </tr>\n",
       "    <tr>\n",
       "      <th>2</th>\n",
       "      <td>3</td>\n",
       "      <td>885013</td>\n",
       "      <td>4.0</td>\n",
       "      <td>2005-10-19</td>\n",
       "      <td>1</td>\n",
       "    </tr>\n",
       "    <tr>\n",
       "      <th>3</th>\n",
       "      <td>4</td>\n",
       "      <td>30878</td>\n",
       "      <td>4.0</td>\n",
       "      <td>2005-12-26</td>\n",
       "      <td>1</td>\n",
       "    </tr>\n",
       "    <tr>\n",
       "      <th>4</th>\n",
       "      <td>5</td>\n",
       "      <td>823519</td>\n",
       "      <td>3.0</td>\n",
       "      <td>2004-05-03</td>\n",
       "      <td>1</td>\n",
       "    </tr>\n",
       "  </tbody>\n",
       "</table>\n",
       "</div>"
      ],
      "text/plain": [
       "   index   userID  rating  ratingDate movieID\n",
       "0      1  1488844     3.0  2005-09-06       1\n",
       "1      2   822109     5.0  2005-05-13       1\n",
       "2      3   885013     4.0  2005-10-19       1\n",
       "3      4    30878     4.0  2005-12-26       1\n",
       "4      5   823519     3.0  2004-05-03       1"
      ]
     },
     "execution_count": 7,
     "metadata": {},
     "output_type": "execute_result"
    }
   ],
   "source": [
    "df_input.head()"
   ]
  },
  {
   "cell_type": "markdown",
   "id": "de62b93a-a0c9-4bce-8750-1b89c64dc045",
   "metadata": {},
   "source": [
    "### Merge the imported datasets into one based on movieID"
   ]
  },
  {
   "cell_type": "code",
   "execution_count": 8,
   "id": "80c42f41-606a-4cd7-872d-7b9b17bb23d8",
   "metadata": {},
   "outputs": [],
   "source": [
    "df = df_input.merge(df_mt)\n",
    "df.drop('index', axis = 1, inplace=True)"
   ]
  },
  {
   "cell_type": "code",
   "execution_count": 9,
   "id": "1bbfb789-db5f-4d2a-b22c-88570cb42604",
   "metadata": {},
   "outputs": [
    {
     "data": {
      "text/html": [
       "<div>\n",
       "<style scoped>\n",
       "    .dataframe tbody tr th:only-of-type {\n",
       "        vertical-align: middle;\n",
       "    }\n",
       "\n",
       "    .dataframe tbody tr th {\n",
       "        vertical-align: top;\n",
       "    }\n",
       "\n",
       "    .dataframe thead th {\n",
       "        text-align: right;\n",
       "    }\n",
       "</style>\n",
       "<table border=\"1\" class=\"dataframe\">\n",
       "  <thead>\n",
       "    <tr style=\"text-align: right;\">\n",
       "      <th></th>\n",
       "      <th>userID</th>\n",
       "      <th>rating</th>\n",
       "      <th>ratingDate</th>\n",
       "      <th>movieID</th>\n",
       "      <th>releaseYear</th>\n",
       "      <th>title</th>\n",
       "      <th>type</th>\n",
       "    </tr>\n",
       "  </thead>\n",
       "  <tbody>\n",
       "    <tr>\n",
       "      <th>0</th>\n",
       "      <td>1488844</td>\n",
       "      <td>3.0</td>\n",
       "      <td>2005-09-06</td>\n",
       "      <td>1</td>\n",
       "      <td>2003</td>\n",
       "      <td>Dinosaur Planet</td>\n",
       "      <td>movie</td>\n",
       "    </tr>\n",
       "    <tr>\n",
       "      <th>1</th>\n",
       "      <td>822109</td>\n",
       "      <td>5.0</td>\n",
       "      <td>2005-05-13</td>\n",
       "      <td>1</td>\n",
       "      <td>2003</td>\n",
       "      <td>Dinosaur Planet</td>\n",
       "      <td>movie</td>\n",
       "    </tr>\n",
       "    <tr>\n",
       "      <th>2</th>\n",
       "      <td>885013</td>\n",
       "      <td>4.0</td>\n",
       "      <td>2005-10-19</td>\n",
       "      <td>1</td>\n",
       "      <td>2003</td>\n",
       "      <td>Dinosaur Planet</td>\n",
       "      <td>movie</td>\n",
       "    </tr>\n",
       "    <tr>\n",
       "      <th>3</th>\n",
       "      <td>30878</td>\n",
       "      <td>4.0</td>\n",
       "      <td>2005-12-26</td>\n",
       "      <td>1</td>\n",
       "      <td>2003</td>\n",
       "      <td>Dinosaur Planet</td>\n",
       "      <td>movie</td>\n",
       "    </tr>\n",
       "    <tr>\n",
       "      <th>4</th>\n",
       "      <td>823519</td>\n",
       "      <td>3.0</td>\n",
       "      <td>2004-05-03</td>\n",
       "      <td>1</td>\n",
       "      <td>2003</td>\n",
       "      <td>Dinosaur Planet</td>\n",
       "      <td>movie</td>\n",
       "    </tr>\n",
       "  </tbody>\n",
       "</table>\n",
       "</div>"
      ],
      "text/plain": [
       "    userID  rating  ratingDate movieID releaseYear            title   type\n",
       "0  1488844     3.0  2005-09-06       1        2003  Dinosaur Planet  movie\n",
       "1   822109     5.0  2005-05-13       1        2003  Dinosaur Planet  movie\n",
       "2   885013     4.0  2005-10-19       1        2003  Dinosaur Planet  movie\n",
       "3    30878     4.0  2005-12-26       1        2003  Dinosaur Planet  movie\n",
       "4   823519     3.0  2004-05-03       1        2003  Dinosaur Planet  movie"
      ]
     },
     "execution_count": 9,
     "metadata": {},
     "output_type": "execute_result"
    }
   ],
   "source": [
    "df.head()"
   ]
  },
  {
   "cell_type": "code",
   "execution_count": 10,
   "id": "58af479e-bcaa-4a6e-b8c0-ad0b0a6cf59f",
   "metadata": {},
   "outputs": [
    {
     "name": "stdout",
     "output_type": "stream",
     "text": [
      "<class 'pandas.core.frame.DataFrame'>\n",
      "Int64Index: 100480507 entries, 0 to 100480506\n",
      "Data columns (total 7 columns):\n",
      " #   Column       Dtype  \n",
      "---  ------       -----  \n",
      " 0   userID       object \n",
      " 1   rating       float64\n",
      " 2   ratingDate   object \n",
      " 3   movieID      object \n",
      " 4   releaseYear  object \n",
      " 5   title        object \n",
      " 6   type         object \n",
      "dtypes: float64(1), object(6)\n",
      "memory usage: 6.0+ GB\n"
     ]
    }
   ],
   "source": [
    "df.info()"
   ]
  },
  {
   "cell_type": "markdown",
   "id": "fe9a27f5-5f1a-48cd-83f7-7ccd6cf174d6",
   "metadata": {},
   "source": [
    "### How many NaN values in each column?"
   ]
  },
  {
   "cell_type": "code",
   "execution_count": 11,
   "id": "c3e07ed5-b2fb-439c-bb90-18b461d48b57",
   "metadata": {},
   "outputs": [
    {
     "name": "stdout",
     "output_type": "stream",
     "text": [
      "NaN sum in column: userID equals 0\n",
      "NaN sum in column: rating equals 0\n",
      "NaN sum in column: ratingDate equals 0\n",
      "NaN sum in column: movieID equals 0\n",
      "NaN sum in column: releaseYear equals 0\n",
      "NaN sum in column: title equals 0\n",
      "NaN sum in column: type equals 0\n"
     ]
    }
   ],
   "source": [
    "for column in df.columns:\n",
    "    print(\"NaN sum in column:\", column, \"equals\", df[column].isna().sum())"
   ]
  },
  {
   "cell_type": "code",
   "execution_count": 12,
   "id": "227e8059-7154-4720-bb0c-8b472f679b6a",
   "metadata": {},
   "outputs": [],
   "source": [
    "numeric_cols = ['userID', 'rating', 'movieID', 'releaseYear']"
   ]
  },
  {
   "cell_type": "code",
   "execution_count": 13,
   "id": "b9541e5e-3cfd-47c7-b7f7-4ea06c830750",
   "metadata": {},
   "outputs": [
    {
     "name": "stdout",
     "output_type": "stream",
     "text": [
      "NaN sum in column when numeric: userID equals 0\n",
      "NaN sum in column when numeric: rating equals 0\n",
      "NaN sum in column when numeric: movieID equals 0\n",
      "NaN sum in column when numeric: releaseYear equals 965\n"
     ]
    }
   ],
   "source": [
    "## Are all values in numeric columns numbers?\n",
    "\n",
    "for column in numeric_cols:\n",
    "    print(\"NaN sum in column when numeric:\", column, \"equals\", pd.to_numeric(df[column], errors='coerce').isna().sum())"
   ]
  },
  {
   "cell_type": "code",
   "execution_count": 14,
   "id": "17600f24-0899-412c-9508-a5ddede3975d",
   "metadata": {},
   "outputs": [
    {
     "data": {
      "text/plain": [
       "965"
      ]
     },
     "execution_count": 14,
     "metadata": {},
     "output_type": "execute_result"
    }
   ],
   "source": [
    "## Which rows contain non-numeric values in column 'releaseYear'?\n",
    "\n",
    "year_index = list(df.loc[pd.isna(pd.to_numeric(df['releaseYear'], errors='coerce')), :].index)\n",
    "len(year_index)"
   ]
  },
  {
   "cell_type": "code",
   "execution_count": 15,
   "id": "268c94b1-74b3-4283-9bc7-abc75708b624",
   "metadata": {},
   "outputs": [
    {
     "data": {
      "text/plain": [
       "Ancient Civilizations: Athens and Greece       195\n",
       "Ancient Civilizations: Rome and Pompeii        189\n",
       "Jimmy Hollywood                                189\n",
       "Eros Dance Dhamaka                             116\n",
       "Ancient Civilizations: Land of the Pharaohs    113\n",
       "Hote Hote Pyaar Ho Gaya                         88\n",
       "Roti Kapada Aur Makaan                          75\n",
       "Name: title, dtype: int64"
      ]
     },
     "execution_count": 15,
     "metadata": {},
     "output_type": "execute_result"
    }
   ],
   "source": [
    "## Which titles miss the 'release year' information?\n",
    "\n",
    "df.loc[year_index, 'title'].value_counts()"
   ]
  },
  {
   "cell_type": "code",
   "execution_count": 16,
   "id": "0fdb988e-107a-401d-b932-6d244aa6d74e",
   "metadata": {},
   "outputs": [
    {
     "data": {
      "text/html": [
       "<div>\n",
       "<style scoped>\n",
       "    .dataframe tbody tr th:only-of-type {\n",
       "        vertical-align: middle;\n",
       "    }\n",
       "\n",
       "    .dataframe tbody tr th {\n",
       "        vertical-align: top;\n",
       "    }\n",
       "\n",
       "    .dataframe thead th {\n",
       "        text-align: right;\n",
       "    }\n",
       "</style>\n",
       "<table border=\"1\" class=\"dataframe\">\n",
       "  <thead>\n",
       "    <tr style=\"text-align: right;\">\n",
       "      <th></th>\n",
       "      <th>userID</th>\n",
       "      <th>rating</th>\n",
       "      <th>ratingDate</th>\n",
       "      <th>movieID</th>\n",
       "      <th>releaseYear</th>\n",
       "      <th>title</th>\n",
       "      <th>type</th>\n",
       "    </tr>\n",
       "  </thead>\n",
       "  <tbody>\n",
       "    <tr>\n",
       "      <th>23435022</th>\n",
       "      <td>1363135</td>\n",
       "      <td>3.0</td>\n",
       "      <td>2004-02-05</td>\n",
       "      <td>4388</td>\n",
       "      <td>NULL</td>\n",
       "      <td>Ancient Civilizations: Rome and Pompeii</td>\n",
       "      <td>movie</td>\n",
       "    </tr>\n",
       "    <tr>\n",
       "      <th>58726792</th>\n",
       "      <td>2219254</td>\n",
       "      <td>3.0</td>\n",
       "      <td>2003-07-16</td>\n",
       "      <td>10782</td>\n",
       "      <td>NULL</td>\n",
       "      <td>Roti Kapada Aur Makaan</td>\n",
       "      <td>movie</td>\n",
       "    </tr>\n",
       "    <tr>\n",
       "      <th>93991338</th>\n",
       "      <td>218030</td>\n",
       "      <td>1.0</td>\n",
       "      <td>2004-12-28</td>\n",
       "      <td>16678</td>\n",
       "      <td>NULL</td>\n",
       "      <td>Jimmy Hollywood</td>\n",
       "      <td>movie</td>\n",
       "    </tr>\n",
       "    <tr>\n",
       "      <th>89557137</th>\n",
       "      <td>1183475</td>\n",
       "      <td>1.0</td>\n",
       "      <td>2001-03-11</td>\n",
       "      <td>15918</td>\n",
       "      <td>NULL</td>\n",
       "      <td>Hote Hote Pyaar Ho Gaya</td>\n",
       "      <td>movie</td>\n",
       "    </tr>\n",
       "    <tr>\n",
       "      <th>89557151</th>\n",
       "      <td>2506048</td>\n",
       "      <td>2.0</td>\n",
       "      <td>2002-02-04</td>\n",
       "      <td>15918</td>\n",
       "      <td>NULL</td>\n",
       "      <td>Hote Hote Pyaar Ho Gaya</td>\n",
       "      <td>movie</td>\n",
       "    </tr>\n",
       "    <tr>\n",
       "      <th>93991449</th>\n",
       "      <td>2630107</td>\n",
       "      <td>3.0</td>\n",
       "      <td>2004-12-21</td>\n",
       "      <td>16678</td>\n",
       "      <td>NULL</td>\n",
       "      <td>Jimmy Hollywood</td>\n",
       "      <td>movie</td>\n",
       "    </tr>\n",
       "    <tr>\n",
       "      <th>100076018</th>\n",
       "      <td>2176303</td>\n",
       "      <td>4.0</td>\n",
       "      <td>2005-05-01</td>\n",
       "      <td>17667</td>\n",
       "      <td>NULL</td>\n",
       "      <td>Eros Dance Dhamaka</td>\n",
       "      <td>movie</td>\n",
       "    </tr>\n",
       "    <tr>\n",
       "      <th>25799141</th>\n",
       "      <td>828166</td>\n",
       "      <td>1.0</td>\n",
       "      <td>2004-10-07</td>\n",
       "      <td>4794</td>\n",
       "      <td>NULL</td>\n",
       "      <td>Ancient Civilizations: Land of the Pharaohs</td>\n",
       "      <td>movie</td>\n",
       "    </tr>\n",
       "    <tr>\n",
       "      <th>41121991</th>\n",
       "      <td>1678265</td>\n",
       "      <td>1.0</td>\n",
       "      <td>2002-08-17</td>\n",
       "      <td>7241</td>\n",
       "      <td>NULL</td>\n",
       "      <td>Ancient Civilizations: Athens and Greece</td>\n",
       "      <td>movie</td>\n",
       "    </tr>\n",
       "    <tr>\n",
       "      <th>89557157</th>\n",
       "      <td>2342834</td>\n",
       "      <td>4.0</td>\n",
       "      <td>2004-01-30</td>\n",
       "      <td>15918</td>\n",
       "      <td>NULL</td>\n",
       "      <td>Hote Hote Pyaar Ho Gaya</td>\n",
       "      <td>movie</td>\n",
       "    </tr>\n",
       "  </tbody>\n",
       "</table>\n",
       "</div>"
      ],
      "text/plain": [
       "            userID  rating  ratingDate movieID releaseYear  \\\n",
       "23435022   1363135     3.0  2004-02-05    4388        NULL   \n",
       "58726792   2219254     3.0  2003-07-16   10782        NULL   \n",
       "93991338    218030     1.0  2004-12-28   16678        NULL   \n",
       "89557137   1183475     1.0  2001-03-11   15918        NULL   \n",
       "89557151   2506048     2.0  2002-02-04   15918        NULL   \n",
       "93991449   2630107     3.0  2004-12-21   16678        NULL   \n",
       "100076018  2176303     4.0  2005-05-01   17667        NULL   \n",
       "25799141    828166     1.0  2004-10-07    4794        NULL   \n",
       "41121991   1678265     1.0  2002-08-17    7241        NULL   \n",
       "89557157   2342834     4.0  2004-01-30   15918        NULL   \n",
       "\n",
       "                                                 title   type  \n",
       "23435022       Ancient Civilizations: Rome and Pompeii  movie  \n",
       "58726792                        Roti Kapada Aur Makaan  movie  \n",
       "93991338                               Jimmy Hollywood  movie  \n",
       "89557137                       Hote Hote Pyaar Ho Gaya  movie  \n",
       "89557151                       Hote Hote Pyaar Ho Gaya  movie  \n",
       "93991449                               Jimmy Hollywood  movie  \n",
       "100076018                           Eros Dance Dhamaka  movie  \n",
       "25799141   Ancient Civilizations: Land of the Pharaohs  movie  \n",
       "41121991      Ancient Civilizations: Athens and Greece  movie  \n",
       "89557157                       Hote Hote Pyaar Ho Gaya  movie  "
      ]
     },
     "execution_count": 16,
     "metadata": {},
     "output_type": "execute_result"
    }
   ],
   "source": [
    "df.loc[year_index, :].sample(n=10)"
   ]
  },
  {
   "cell_type": "code",
   "execution_count": 17,
   "id": "22998700-6a38-4cf5-abf7-ad8ddcf85b84",
   "metadata": {},
   "outputs": [],
   "source": [
    "## Get the titles of movies with NaN values\n",
    "\n",
    "null_ids = df.loc[year_index, 'title'].value_counts()\n",
    "null_ids = null_ids.reset_index()"
   ]
  },
  {
   "cell_type": "code",
   "execution_count": 18,
   "id": "2770a795-06f6-4173-9122-101943faca41",
   "metadata": {},
   "outputs": [],
   "source": [
    "## Set the release year value on Google-based information\n",
    "\n",
    "df.loc[df.title == null_ids['index'].unique()[2], 'releaseYear'] = 1994\n",
    "df.loc[df.title == null_ids['index'].unique()[3], 'releaseYear'] = 1999\n",
    "df.loc[df.title == null_ids['index'].unique()[5], 'releaseYear'] = 1999\n",
    "df.loc[df.title == null_ids['index'].unique()[6], 'releaseYear'] = 1974"
   ]
  },
  {
   "cell_type": "code",
   "execution_count": 19,
   "id": "e10fae03-74c9-4337-8fc7-3bc714d935c2",
   "metadata": {},
   "outputs": [],
   "source": [
    "## Set the release year based on the earliest rating date corresponding to the movie\n",
    "\n",
    "df.ratingDate = pd.to_datetime(df['ratingDate'])\n",
    "\n",
    "for movie in null_ids['index'].unique()[[0,1,4]]:\n",
    "    df.loc[df.title == movie, 'releaseYear'] = min(df.loc[df['title'] == movie, 'ratingDate']).year"
   ]
  },
  {
   "cell_type": "code",
   "execution_count": 20,
   "id": "8a0dc1c4-b303-4cd8-af7d-7c718d552174",
   "metadata": {},
   "outputs": [
    {
     "data": {
      "text/html": [
       "<div>\n",
       "<style scoped>\n",
       "    .dataframe tbody tr th:only-of-type {\n",
       "        vertical-align: middle;\n",
       "    }\n",
       "\n",
       "    .dataframe tbody tr th {\n",
       "        vertical-align: top;\n",
       "    }\n",
       "\n",
       "    .dataframe thead th {\n",
       "        text-align: right;\n",
       "    }\n",
       "</style>\n",
       "<table border=\"1\" class=\"dataframe\">\n",
       "  <thead>\n",
       "    <tr style=\"text-align: right;\">\n",
       "      <th></th>\n",
       "      <th>userID</th>\n",
       "      <th>rating</th>\n",
       "      <th>ratingDate</th>\n",
       "      <th>movieID</th>\n",
       "      <th>releaseYear</th>\n",
       "      <th>title</th>\n",
       "      <th>type</th>\n",
       "    </tr>\n",
       "  </thead>\n",
       "  <tbody>\n",
       "    <tr>\n",
       "      <th>100076108</th>\n",
       "      <td>1534243</td>\n",
       "      <td>3.0</td>\n",
       "      <td>2004-02-23</td>\n",
       "      <td>17667</td>\n",
       "      <td>1999</td>\n",
       "      <td>Eros Dance Dhamaka</td>\n",
       "      <td>movie</td>\n",
       "    </tr>\n",
       "    <tr>\n",
       "      <th>41122135</th>\n",
       "      <td>2596706</td>\n",
       "      <td>3.0</td>\n",
       "      <td>2004-12-13</td>\n",
       "      <td>7241</td>\n",
       "      <td>2001</td>\n",
       "      <td>Ancient Civilizations: Athens and Greece</td>\n",
       "      <td>movie</td>\n",
       "    </tr>\n",
       "    <tr>\n",
       "      <th>25799195</th>\n",
       "      <td>1084999</td>\n",
       "      <td>3.0</td>\n",
       "      <td>2002-11-19</td>\n",
       "      <td>4794</td>\n",
       "      <td>2001</td>\n",
       "      <td>Ancient Civilizations: Land of the Pharaohs</td>\n",
       "      <td>movie</td>\n",
       "    </tr>\n",
       "    <tr>\n",
       "      <th>23435051</th>\n",
       "      <td>2101632</td>\n",
       "      <td>3.0</td>\n",
       "      <td>2003-11-04</td>\n",
       "      <td>4388</td>\n",
       "      <td>2001</td>\n",
       "      <td>Ancient Civilizations: Rome and Pompeii</td>\n",
       "      <td>movie</td>\n",
       "    </tr>\n",
       "    <tr>\n",
       "      <th>89557162</th>\n",
       "      <td>2498663</td>\n",
       "      <td>2.0</td>\n",
       "      <td>2005-08-02</td>\n",
       "      <td>15918</td>\n",
       "      <td>1999</td>\n",
       "      <td>Hote Hote Pyaar Ho Gaya</td>\n",
       "      <td>movie</td>\n",
       "    </tr>\n",
       "    <tr>\n",
       "      <th>93991403</th>\n",
       "      <td>1210199</td>\n",
       "      <td>3.0</td>\n",
       "      <td>2005-07-07</td>\n",
       "      <td>16678</td>\n",
       "      <td>1994</td>\n",
       "      <td>Jimmy Hollywood</td>\n",
       "      <td>movie</td>\n",
       "    </tr>\n",
       "    <tr>\n",
       "      <th>100076032</th>\n",
       "      <td>2520868</td>\n",
       "      <td>3.0</td>\n",
       "      <td>2005-02-01</td>\n",
       "      <td>17667</td>\n",
       "      <td>1999</td>\n",
       "      <td>Eros Dance Dhamaka</td>\n",
       "      <td>movie</td>\n",
       "    </tr>\n",
       "    <tr>\n",
       "      <th>25799141</th>\n",
       "      <td>828166</td>\n",
       "      <td>1.0</td>\n",
       "      <td>2004-10-07</td>\n",
       "      <td>4794</td>\n",
       "      <td>2001</td>\n",
       "      <td>Ancient Civilizations: Land of the Pharaohs</td>\n",
       "      <td>movie</td>\n",
       "    </tr>\n",
       "    <tr>\n",
       "      <th>41122048</th>\n",
       "      <td>2058045</td>\n",
       "      <td>1.0</td>\n",
       "      <td>2004-10-08</td>\n",
       "      <td>7241</td>\n",
       "      <td>2001</td>\n",
       "      <td>Ancient Civilizations: Athens and Greece</td>\n",
       "      <td>movie</td>\n",
       "    </tr>\n",
       "    <tr>\n",
       "      <th>58726851</th>\n",
       "      <td>20461</td>\n",
       "      <td>3.0</td>\n",
       "      <td>2005-03-28</td>\n",
       "      <td>10782</td>\n",
       "      <td>1974</td>\n",
       "      <td>Roti Kapada Aur Makaan</td>\n",
       "      <td>movie</td>\n",
       "    </tr>\n",
       "  </tbody>\n",
       "</table>\n",
       "</div>"
      ],
      "text/plain": [
       "            userID  rating ratingDate movieID releaseYear  \\\n",
       "100076108  1534243     3.0 2004-02-23   17667        1999   \n",
       "41122135   2596706     3.0 2004-12-13    7241        2001   \n",
       "25799195   1084999     3.0 2002-11-19    4794        2001   \n",
       "23435051   2101632     3.0 2003-11-04    4388        2001   \n",
       "89557162   2498663     2.0 2005-08-02   15918        1999   \n",
       "93991403   1210199     3.0 2005-07-07   16678        1994   \n",
       "100076032  2520868     3.0 2005-02-01   17667        1999   \n",
       "25799141    828166     1.0 2004-10-07    4794        2001   \n",
       "41122048   2058045     1.0 2004-10-08    7241        2001   \n",
       "58726851     20461     3.0 2005-03-28   10782        1974   \n",
       "\n",
       "                                                 title   type  \n",
       "100076108                           Eros Dance Dhamaka  movie  \n",
       "41122135      Ancient Civilizations: Athens and Greece  movie  \n",
       "25799195   Ancient Civilizations: Land of the Pharaohs  movie  \n",
       "23435051       Ancient Civilizations: Rome and Pompeii  movie  \n",
       "89557162                       Hote Hote Pyaar Ho Gaya  movie  \n",
       "93991403                               Jimmy Hollywood  movie  \n",
       "100076032                           Eros Dance Dhamaka  movie  \n",
       "25799141   Ancient Civilizations: Land of the Pharaohs  movie  \n",
       "41122048      Ancient Civilizations: Athens and Greece  movie  \n",
       "58726851                        Roti Kapada Aur Makaan  movie  "
      ]
     },
     "execution_count": 20,
     "metadata": {},
     "output_type": "execute_result"
    }
   ],
   "source": [
    "df.loc[year_index, :].sample(n=10)"
   ]
  },
  {
   "cell_type": "markdown",
   "id": "6e2a1092-fb85-4327-a996-7a74a9a9f768",
   "metadata": {},
   "source": [
    "### Save the cleaned data to pickle"
   ]
  },
  {
   "cell_type": "code",
   "execution_count": 21,
   "id": "d544ca68-0e31-4ee0-9ac1-60840d1d5923",
   "metadata": {},
   "outputs": [],
   "source": [
    "df.to_pickle(\"input_data.pkl\")"
   ]
  },
  {
   "cell_type": "code",
   "execution_count": null,
   "id": "6fb93289-e328-4253-ad4d-254cdd11095b",
   "metadata": {},
   "outputs": [],
   "source": []
  }
 ],
 "metadata": {
  "kernelspec": {
   "display_name": "Python 3 (ipykernel)",
   "language": "python",
   "name": "python3"
  },
  "language_info": {
   "codemirror_mode": {
    "name": "ipython",
    "version": 3
   },
   "file_extension": ".py",
   "mimetype": "text/x-python",
   "name": "python",
   "nbconvert_exporter": "python",
   "pygments_lexer": "ipython3",
   "version": "3.9.12"
  }
 },
 "nbformat": 4,
 "nbformat_minor": 5
}
